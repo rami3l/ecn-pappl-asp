{
 "cells": [
  {
   "cell_type": "markdown",
   "metadata": {},
   "source": [
    "## Exercise 1: Classification of animals\n",
    "```prolog\n",
    "animal(rabbit;cow;dog;snake;hen;lizard;goose).\n",
    "layEggs(hen;snake;goose).\n",
    "feather(hen;goose).\n",
    "```\n",
    "1. How to know that they are mammals? Retrieve them with a predicate mammal/1\n",
    "2. Select 2 mammals from the set created in question 1)\n",
    "3. Create a new predicate reptile/1 using the given predicates"
   ]
  },
  {
   "cell_type": "code",
   "execution_count": 1,
   "metadata": {},
   "outputs": [
    {
     "name": "stdout",
     "output_type": "stream",
     "text": [
      "reptile(snake) reptile(lizard) mammal2(cow) mammal2(dog)\n",
      "reptile(snake) reptile(lizard) mammal2(rabbit) mammal2(cow)\n",
      "reptile(snake) reptile(lizard) mammal2(rabbit) mammal2(dog)\n",
      "SATISFIABLE\n"
     ]
    }
   ],
   "source": [
    "%%clingo -V0 0\n",
    "\n",
    "animal(rabbit;cow;dog;snake;hen;lizard;goose).\n",
    "layEggs(hen;snake;goose).\n",
    "feather(hen;goose).\n",
    "\n",
    "% Q1\n",
    "% We don't know from the given knowledge set. We need to add information.\n",
    "mammal(rabbit;cow;dog).\n",
    "\n",
    "% Q2\n",
    "{mammal2(X): mammal(X)} = 2.\n",
    "#show mammal2/1.\n",
    "\n",
    "% Q3\n",
    "% We suppose that reptiles are the animals\n",
    "% that are not mammal and have no feathers.\n",
    "reptile(R) :- animal(R), not mammal(R), not feather(R).\n",
    "#show reptile/1."
   ]
  },
  {
   "cell_type": "markdown",
   "metadata": {},
   "source": [
    "## Exercise 2: Who killed Mr Boddy ?\n",
    "```prolog\n",
    "1{murderer(msScarlet); murderer(colonelMustard)}1.\n",
    "1{weaponOfCrime(revolver); weaponOfCrime(candleStick)}1.\n",
    "1{placeOfCrime(kitchen); placeOfCrime(hall); placeOfCrime(diningRoom)}1.\n",
    ":- placeOfCrime(kitchen).\n",
    "placeOfCrime(hall) :- murderer(colonelMustard); not weaponOfCrime(revolver).\n",
    "weaponOfCrime(candleStick).\n",
    "\n",
    "#show murderer/1.\n",
    "#show placeOfCrime/1.\n",
    "#show weaponOfCrime/1.\n",
    "```\n",
    "1. Comment this code (with%)\n",
    "2. Give me the Answer Sets (hint: there are 3)"
   ]
  },
  {
   "cell_type": "code",
   "execution_count": 2,
   "metadata": {},
   "outputs": [
    {
     "name": "stdout",
     "output_type": "stream",
     "text": [
      "weaponOfCrime(candleStick) murderer(msScarlet) placeOfCrime(diningRoom)\n",
      "weaponOfCrime(candleStick) placeOfCrime(hall) murderer(msScarlet)\n",
      "weaponOfCrime(candleStick) placeOfCrime(hall) murderer(colonelMustard)\n",
      "SATISFIABLE\n"
     ]
    }
   ],
   "source": [
    "%%clingo -V0 0\n",
    "\n",
    "% The murderer is either `msScarlet` or `colonelMustard`.\n",
    "1{murderer(msScarlet); murderer(colonelMustard)}1.\n",
    "\n",
    "% The weapon is either a `revolver` or a `candleStick`.\n",
    "1{weaponOfCrime(revolver); weaponOfCrime(candleStick)}1.\n",
    "\n",
    "% The place of crime is one of the three below.\n",
    "1{placeOfCrime(kitchen); placeOfCrime(hall); placeOfCrime(diningRoom)}1.\n",
    "% The place of crime cannot be the kitchen.\n",
    ":- placeOfCrime(kitchen).\n",
    "\n",
    "% If the murderer is `colonelMustard` and the weapon is not a `revolver`,\n",
    "% then the place of crime is the hall.\n",
    "placeOfCrime(hall) :- murderer(colonelMustard); not weaponOfCrime(revolver).\n",
    "\n",
    "% The weapon is a `candleStick`.\n",
    "weaponOfCrime(candleStick).\n",
    "\n",
    "#show murderer/1.\n",
    "#show placeOfCrime/1.\n",
    "#show weaponOfCrime/1."
   ]
  },
  {
   "cell_type": "markdown",
   "metadata": {},
   "source": [
    "## Exercise 3: A mini introduction to graphs\n",
    "```prolog\n",
    "vertex(a;b;c;d).  % Nodes of the graph\n",
    "sign(up;down).    % Different signs that each node can take\n",
    "observedE(a,d,1). % There is an edge between a and d\n",
    "```\n",
    "1. Generate a `labelV/2` that will associate a sign to each of the nodes `a,b,c,d`.\n",
    "2. If `a` is `up`, what sign will `d` have? Generate a `labelV` consistent with `observedE` (the sign of `a` must be the same as the sign of ~~`b` (is there a typo?)~~ `d`)."
   ]
  },
  {
   "cell_type": "code",
   "execution_count": 3,
   "metadata": {},
   "outputs": [
    {
     "name": "stdout",
     "output_type": "stream",
     "text": [
      "labelV(d,up) labelV(a,up) labelV(b,down) labelV(c,up)\n",
      "labelV(d,up) labelV(a,up) labelV(b,down) labelV(c,down)\n",
      "labelV(d,up) labelV(a,up) labelV(b,up) labelV(c,up)\n",
      "labelV(d,up) labelV(a,up) labelV(b,up) labelV(c,down)\n",
      "labelV(d,down) labelV(a,down) labelV(b,up) labelV(c,down)\n",
      "labelV(d,down) labelV(a,down) labelV(b,down) labelV(c,down)\n",
      "labelV(d,down) labelV(a,down) labelV(b,up) labelV(c,up)\n",
      "labelV(d,down) labelV(a,down) labelV(b,down) labelV(c,up)\n",
      "SATISFIABLE\n"
     ]
    }
   ],
   "source": [
    "%%clingo -V0 0\n",
    "\n",
    "vertex(a;b;c;d).  % Vertices of the graph\n",
    "sign(up;down).    % Different signs that each vertex can take\n",
    "observedE(a,d,1). % There is an edge between a and d\n",
    "\n",
    "% For each vertex there is only one sign it can have.\n",
    "{labelV(V, S): sign(S)} = 1 :- vertex(V).\n",
    "\n",
    "% The sign of `a` and `d` must be the same.\n",
    "labelV(B, S) :- labelV(A, S), observedE(A, B, 1).\n",
    "\n",
    "#show labelV/2."
   ]
  }
 ],
 "metadata": {
  "kernelspec": {
   "display_name": "Python 3",
   "language": "python",
   "name": "python3"
  },
  "language_info": {
   "codemirror_mode": {
    "name": "ipython",
    "version": 3
   },
   "file_extension": ".py",
   "mimetype": "text/x-python",
   "name": "python",
   "nbconvert_exporter": "python",
   "pygments_lexer": "ipython3",
   "version": "3.8.6"
  }
 },
 "nbformat": 4,
 "nbformat_minor": 4
}
