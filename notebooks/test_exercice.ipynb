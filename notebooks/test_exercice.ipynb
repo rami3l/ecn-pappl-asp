{
 "cells": [
  {
   "cell_type": "markdown",
   "metadata": {},
   "source": [
    "# EXERCICE 1"
   ]
  },
  {
   "cell_type": "code",
   "execution_count": 19,
   "metadata": {},
   "outputs": [
    {
     "name": "stdout",
     "output_type": "stream",
     "text": [
      "reptile(serpent) reptile(lezard) mammifere2(vache) mammifere2(chien)\n",
      "reptile(serpent) reptile(lezard) mammifere2(lapin) mammifere2(vache)\n",
      "reptile(serpent) reptile(lezard) mammifere2(lapin) mammifere2(chien)\n",
      "SATISFIABLE\n"
     ]
    }
   ],
   "source": [
    "%%clingo -V0 0\n",
    "\n",
    "% Here are all the atoms.\n",
    "animaux(lapin;vache;chien;serpent;poule;lezard;oie).\n",
    "pond(poule;serpent;oie).\n",
    "plume(poule;oie).\n",
    "\n",
    "%Comment savoir qu elles sont les mammiferes. Les récupérer avec un prédicat mammifere/1\n",
    "mammifere(X):-animaux(X), X != lezard, not pond(X), not plume(X).\n",
    "%#show mammifere/1.\n",
    "\n",
    "%Sélectionner 2 mammifères parmi l’ensemble créer à la question 1)\n",
    "{mammifere2(X): mammifere(X)}=2.\n",
    "#show mammifere2/1.\n",
    "\n",
    "%Créer un nouveau prédicat reptile/1 à l’aide des prédicats données\n",
    "reptile(X):-animaux(X), not mammifere(X), not plume(X).\n",
    "#show reptile/1."
   ]
  },
  {
   "cell_type": "markdown",
   "metadata": {},
   "source": [
    "# EXERCICE 2"
   ]
  },
  {
   "cell_type": "code",
   "execution_count": 20,
   "metadata": {},
   "outputs": [
    {
     "name": "stdout",
     "output_type": "stream",
     "text": [
      "weaponOfCrime(candleStick) murderer(msScarlet) placeOfCrime(diningRoom)\n",
      "weaponOfCrime(candleStick) placeOfCrime(hall) murderer(msScarlet)\n",
      "weaponOfCrime(candleStick) placeOfCrime(hall) murderer(colonelMustard)\n",
      "SATISFIABLE\n"
     ]
    }
   ],
   "source": [
    "%%clingo -V0 0\n",
    "\n",
    "%Definit qu il y a un tueur, avec une arme et une place du crime\n",
    "1{murderer(msScarlet); murderer(colonelMustard)}1.\n",
    "1{weaponOfCrime(revolver); weaponOfCrime(candleStick)}1.\n",
    "1{placeOfCrime(kitchen); placeOfCrime(hall); placeOfCrime(diningRoom)}1.\n",
    "\n",
    "%Definition des règles\n",
    "\n",
    "%La place du meutre ne peut pas etre la cuisine\n",
    ":- placeOfCrime(kitchen).\n",
    "%Si le tueur est le colonelMustard et que l arme n est pas un revolver alors la place est le hall\n",
    "placeOfCrime(hall) :- murderer(colonelMustard); not weaponOfCrime(revolver).\n",
    "%l arme est forcement un candleStick\n",
    "weaponOfCrime(candleStick).\n",
    "\n",
    "% Affichage des solutions\n",
    "#show murderer/1.\n",
    "#show placeOfCrime/1.\n",
    "#show weaponOfCrime/1.\n",
    "\n",
    "%Commentez ce code (avec des%)\n",
    "\n",
    "%Donnez moi les Answer Sets (indice : il y en a 3)\n",
    "%(ms Scarlet, candlestick, dining-room)\n",
    "%(colonel Mustard, candlestick, hall)\n",
    "%(ms Scarlet, candlestick, hall)"
   ]
  },
  {
   "cell_type": "markdown",
   "metadata": {},
   "source": [
    "# EXERCICE 3"
   ]
  },
  {
   "cell_type": "code",
   "execution_count": 30,
   "metadata": {},
   "outputs": [
    {
     "name": "stdout",
     "output_type": "stream",
     "text": [
      "labelV(d,up) labelV(a,up) labelV(b,down) labelV(c,up)\n",
      "labelV(d,up) labelV(a,up) labelV(b,down) labelV(c,down)\n",
      "labelV(d,up) labelV(a,up) labelV(b,up) labelV(c,up)\n",
      "labelV(d,up) labelV(a,up) labelV(b,up) labelV(c,down)\n",
      "labelV(d,down) labelV(a,down) labelV(b,up) labelV(c,down)\n",
      "labelV(d,down) labelV(a,down) labelV(b,down) labelV(c,down)\n",
      "labelV(d,down) labelV(a,down) labelV(b,up) labelV(c,up)\n",
      "labelV(d,down) labelV(a,down) labelV(b,down) labelV(c,up)\n",
      "SATISFIABLE\n"
     ]
    }
   ],
   "source": [
    "%%clingo -V0 0\n",
    "\n",
    "vertex(a;b;c;d). % les nœuds du graphe\n",
    "sign(up;down). % les différences signes que peuvent prendre chaque nœud\n",
    "observedE(a,d,1). % il y a une arrête entre a et d \n",
    "\n",
    "%Génerer un prédicat labelV d’arité 2 qui va associer un signe à chacun des nœud a,b,c et d.\n",
    "{labelV(X,Y): sign(Y)}=1:-vertex(X).\n",
    "%#show labelV/2.\n",
    "%{labelV(X,Y): sign(Y),vertex(X)}=1.\n",
    "%#show labelV/2.\n",
    "\n",
    "%Si a est up, de qu’elle signe sera d ? Génerer u\n",
    "labelV(D,L):-labelV(A,L),observedE(A,D,1).\n",
    "#show labelV/2."
   ]
  },
  {
   "cell_type": "markdown",
   "metadata": {},
   "source": [
    "# EXERCICE CONSISTANCE"
   ]
  },
  {
   "cell_type": "code",
   "execution_count": null,
   "metadata": {},
   "outputs": [],
   "source": []
  }
 ],
 "metadata": {
  "kernelspec": {
   "display_name": "Python 3",
   "language": "python",
   "name": "python3"
  },
  "language_info": {
   "codemirror_mode": {
    "name": "ipython",
    "version": 3
   },
   "file_extension": ".py",
   "mimetype": "text/x-python",
   "name": "python",
   "nbconvert_exporter": "python",
   "pygments_lexer": "ipython3",
   "version": "3.8.6"
  }
 },
 "nbformat": 4,
 "nbformat_minor": 4
}
