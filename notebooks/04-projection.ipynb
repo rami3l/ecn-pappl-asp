{
 "cells": [
  {
   "cell_type": "code",
   "execution_count": 1,
   "metadata": {},
   "outputs": [
    {
     "name": "stdout",
     "output_type": "stream",
     "text": [
      "clingo version 5.4.0\n",
      "usage: clingo [number] [options] [files]\n",
      "\n",
      "Clasp.Config Options:\n",
      "\n",
      "  --configuration=<arg>   : Set default configuration [auto]\n",
      "      <arg>: {auto|frumpy|jumpy|tweety|handy|crafty|trendy|many|<file>}\n",
      "        auto  : Select configuration based on problem type\n",
      "        frumpy: Use conservative defaults\n",
      "        jumpy : Use aggressive defaults\n",
      "        tweety: Use defaults geared towards asp problems\n",
      "        handy : Use defaults geared towards large problems\n",
      "        crafty: Use defaults geared towards crafted problems\n",
      "        trendy: Use defaults geared towards industrial problems\n",
      "        many  : Use default portfolio to configure solver(s)\n",
      "        <file>: Use configuration file to configure solver(s)\n",
      "  --tester=<options>      : Pass (quoted) string of <options> to tester\n",
      "  --stats[=<n>[,<t>]],-s  : Enable {1=basic|2=full} statistics (<t> for tester)\n",
      "  --[no-]parse-ext        : Enable extensions in non-aspif input\n",
      "  --[no-]parse-maxsat     : Treat dimacs input as MaxSAT problem\n",
      "\n",
      "Clasp.Solving Options:\n",
      "\n",
      "  --parallel-mode,-t <arg>: Run parallel search with given number of threads\n",
      "      <arg>: <n {1..64}>[,<mode {compete|split}>]\n",
      "        <n>   : Number of threads to use in search\n",
      "        <mode>: Run competition or splitting based search [compete]\n",
      "\n",
      "  --enum-mode,-e <arg>    : Configure enumeration algorithm [auto]\n",
      "      <arg>: {bt|record|brave|cautious|auto}\n",
      "        bt      : Backtrack decision literals from solutions\n",
      "        record  : Add nogoods for computed solutions\n",
      "        domRec  : Add nogoods over true domain atoms\n",
      "        brave   : Compute brave consequences (union of models)\n",
      "        cautious: Compute cautious consequences (intersection of models)\n",
      "        auto    : Use bt for enumeration and record for optimization\n",
      "  --project[=<arg>|no]    : Enable projective solution enumeration\n",
      "      <arg>: {show|project|auto}[,<bt {0..3}>] (Implicit: auto,3)\n",
      "        Project to atoms in show or project directives, or\n",
      "        select depending on the existence of a project directive\n",
      "      <bt> : Additional options for enumeration algorithm 'bt'\n",
      "        Use activity heuristic (1) when selecting backtracking literal\n",
      "        and/or progress saving (2) when retracting solution literals\n",
      "  --models,-n <n>         : Compute at most <n> models (0 for all)\n",
      "\n",
      "  --opt-mode=<arg>        : Configure optimization algorithm\n",
      "      <arg>: <mode {opt|enum|optN|ignore}>[,<bound>...]\n",
      "        opt   : Find optimal model\n",
      "        enum  : Find models with costs <= <bound>\n",
      "        optN  : Find optimum, then enumerate optimal models\n",
      "        ignore: Ignore optimize statements\n",
      "      <bound> : Set initial bound for objective function(s)\n",
      "\n",
      "Gringo Options:\n",
      "\n",
      "  --text                  : Print plain text format\n",
      "  --const,-c <id>=<term>  : Replace term occurrences of <id> with <term>\n",
      "\n",
      "Basic Options:\n",
      "\n",
      "  --help[=<n>],-h         : Print {1=basic|2=more|3=full} help and exit\n",
      "  --version,-v            : Print version information and exit\n",
      "  --verbose[=<n>],-V      : Set verbosity level to <n>\n",
      "  --time-limit=<n>        : Set time limit to <n> seconds (0=no limit)\n",
      "  --quiet[=<levels>],-q   : Configure printing of models, costs, and calls\n",
      "      <levels>: <mod>[,<cost>][,<call>]\n",
      "        <mod> : print {0=all|1=last|2=no} models\n",
      "        <cost>: print {0=all|1=last|2=no} optimize values [<mod>]\n",
      "        <call>: print {0=all|1=last|2=no} call steps      [2]\n",
      "  --pre[=<fmt>]           : Print simplified program and exit\n",
      "      <fmt>: Set output format to {aspif|smodels} (implicit: aspif)\n",
      "  --mode=<arg>            : Run in {clingo|clasp|gringo} mode\n",
      "\n",
      "usage: clingo [number] [options] [files]\n",
      "Default command-line:\n",
      "clingo --configuration=auto --enum-mode=auto --verbose=1 \n",
      "\n",
      "Type 'clingo --help=2' for more options and defaults\n",
      "and  'clingo --help=3' for all options and configurations.\n",
      "\n",
      "clingo is part of Potassco: https://potassco.org/clingo\n",
      "Get help/report bugs via : https://potassco.org/support\n"
     ]
    }
   ],
   "source": [
    "%%clingo --help\n",
    "\n",
    "% --project[=<arg>|no]    : Enable projective solution enumeration\n",
    "."
   ]
  },
  {
   "cell_type": "code",
   "execution_count": 2,
   "metadata": {},
   "outputs": [
    {
     "name": "stdout",
     "output_type": "stream",
     "text": [
      "clingo version 5.4.0\n",
      "Reading from stdin\n",
      "Solving...\n",
      "Answer: 1\n",
      "reptile(snake) reptile(lizard)\n",
      "Answer: 2\n",
      "reptile(snake) reptile(lizard)\n",
      "Answer: 3\n",
      "reptile(snake) reptile(lizard)\n",
      "SATISFIABLE\n",
      "\n",
      "Models       : 3\n",
      "Calls        : 1\n",
      "Time         : 0.001s (Solving: 0.00s 1st Model: 0.00s Unsat: 0.00s)\n",
      "CPU Time     : 0.001s\n"
     ]
    }
   ],
   "source": [
    "%%clingo -n 0\n",
    "\n",
    "animal(rabbit;cow;dog;snake;hen;lizard;goose).\n",
    "layEggs(hen;snake;goose).\n",
    "feather(hen;goose).\n",
    "\n",
    "% Q1\n",
    "% We don't know from the given knowledge set. We need to add information.\n",
    "mammal(rabbit;cow;dog).\n",
    "\n",
    "% Q2\n",
    "{mammal2(X): mammal(X)} = 2.\n",
    "% #show mammal2/1.\n",
    "\n",
    "% Q3\n",
    "% We suppose that reptiles are the animals\n",
    "% that are not mammal and have no feathers.\n",
    "reptile(R) :- animal(R), not mammal(R), not feather(R).\n",
    "#show reptile/1."
   ]
  },
  {
   "cell_type": "code",
   "execution_count": 3,
   "metadata": {},
   "outputs": [
    {
     "name": "stdout",
     "output_type": "stream",
     "text": [
      "clingo version 5.4.0\n",
      "Reading from stdin\n",
      "Solving...\n",
      "Answer: 1\n",
      "reptile(snake) reptile(lizard)\n",
      "SATISFIABLE\n",
      "\n",
      "Models       : 1\n",
      "Calls        : 1\n",
      "Time         : 0.000s (Solving: 0.00s 1st Model: 0.00s Unsat: 0.00s)\n",
      "CPU Time     : 0.000s\n"
     ]
    }
   ],
   "source": [
    "%%clingo -n 0 --project\n",
    "%             ^^^^^^^^^ Here!\n",
    "\n",
    "animal(rabbit;cow;dog;snake;hen;lizard;goose).\n",
    "layEggs(hen;snake;goose).\n",
    "feather(hen;goose).\n",
    "\n",
    "% Q1\n",
    "% We don't know from the given knowledge set. We need to add information.\n",
    "mammal(rabbit;cow;dog).\n",
    "\n",
    "% Q2\n",
    "{mammal2(X): mammal(X)} = 2.\n",
    "% #show mammal2/1.\n",
    "\n",
    "% Q3\n",
    "% We suppose that reptiles are the animals\n",
    "% that are not mammal and have no feathers.\n",
    "reptile(R) :- animal(R), not mammal(R), not feather(R).\n",
    "#show reptile/1."
   ]
  },
  {
   "cell_type": "code",
   "execution_count": null,
   "metadata": {},
   "outputs": [],
   "source": []
  }
 ],
 "metadata": {
  "kernelspec": {
   "display_name": "Python 3",
   "language": "python",
   "name": "python3"
  },
  "language_info": {
   "codemirror_mode": {
    "name": "ipython",
    "version": 3
   },
   "file_extension": ".py",
   "mimetype": "text/x-python",
   "name": "python",
   "nbconvert_exporter": "python",
   "pygments_lexer": "ipython3",
   "version": "3.8.6"
  }
 },
 "nbformat": 4,
 "nbformat_minor": 4
}
