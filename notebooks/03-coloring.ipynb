{
 "cells": [
  {
   "cell_type": "markdown",
   "metadata": {},
   "source": [
    "# Coloring of graphs"
   ]
  },
  {
   "cell_type": "code",
   "execution_count": 1,
   "metadata": {},
   "outputs": [
    {
     "name": "stdout",
     "output_type": "stream",
     "text": [
      "clingo version 5.4.0\n",
      "Reading from stdin\n",
      "Solving...\n",
      "Answer: 1\n",
      "node_color(rpsP,1) node_color(rpmC,-1) node_color(fnr,-1) node_color(arcA,1) influence(rpmC,-1) influence(fnr,-1) influence(rpsP,1)\n",
      "SATISFIABLE\n",
      "\n",
      "Models       : 1\n",
      "Calls        : 1\n",
      "Time         : 0.001s (Solving: 0.00s 1st Model: 0.00s Unsat: 0.00s)\n",
      "CPU Time     : 0.001s\n"
     ]
    }
   ],
   "source": [
    "%%clingo -n 0\n",
    "\n",
    "% Description of the signed directed graph.\n",
    "node(arcA; fnr; rpsP; rpmC).\n",
    "\n",
    "sign(-1; 1).\n",
    "\n",
    "edge(arcA, fnr, -1).\n",
    "edge(arcA, rpmC, -1).\n",
    "edge(fnr, rpmC, 1).\n",
    "edge(fnr, rpsP, -1).\n",
    "\n",
    "color(-1; 1).\n",
    "\n",
    "node_color(rpsP, 1).\n",
    "% node_color(rpsP, -1).\n",
    "node_color(rpmC, -1).\n",
    "\n",
    "% Each node can only have 1 color.\n",
    "1{node_color(N, C): color(C)}1 :- node(N).\n",
    "\n",
    "% Definition of influence.\n",
    "influence(I, J, P*Q) :- edge(I, J, P), node_color(I, Q).\n",
    "influence(J, C) :- influence(I, J, C).\n",
    "\n",
    "% Consistency rule:\n",
    "% If node_color(J, C) and influence(J, D) and C != D,\n",
    "% then we must be able to find an instance influence(J, C).\n",
    ":- not influence(J, C), node_color(J, C), influence(J, D), C != D.\n",
    "\n",
    "#show node_color/2.\n",
    "#show influence/2."
   ]
  }
 ],
 "metadata": {
  "kernelspec": {
   "display_name": "Python 3",
   "language": "python",
   "name": "python3"
  },
  "language_info": {
   "codemirror_mode": {
    "name": "ipython",
    "version": 3
   },
   "file_extension": ".py",
   "mimetype": "text/x-python",
   "name": "python",
   "nbconvert_exporter": "python",
   "pygments_lexer": "ipython3",
   "version": "3.8.6"
  }
 },
 "nbformat": 4,
 "nbformat_minor": 4
}
