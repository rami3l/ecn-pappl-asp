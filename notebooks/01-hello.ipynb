{
 "cells": [
  {
   "cell_type": "markdown",
   "metadata": {},
   "source": [
    "# AnsProlog Basics\n",
    "Unlike in Prolog, we don’t have to issue a query in order for computation to happen. The answer set solver instead produces all possible collections of facts that are consistent with what we’ve said in the program."
   ]
  },
  {
   "cell_type": "code",
   "execution_count": 1,
   "metadata": {},
   "outputs": [
    {
     "name": "stdout",
     "output_type": "stream",
     "text": [
      "p q\n",
      "SATISFIABLE\n"
     ]
    }
   ],
   "source": [
    "%%clingo -V0 0\n",
    "% The answer set is calculated automatically without an explicit query.\n",
    "p. % A fact.\n",
    "q :- p. % q if p."
   ]
  },
  {
   "cell_type": "markdown",
   "metadata": {},
   "source": [
    "## Choices"
   ]
  },
  {
   "cell_type": "code",
   "execution_count": 2,
   "metadata": {},
   "outputs": [
    {
     "name": "stdout",
     "output_type": "stream",
     "text": [
      "r p\n",
      "r q\n",
      "s p\n",
      "s q\n",
      "SATISFIABLE\n"
     ]
    }
   ],
   "source": [
    "%%clingo -V0 0\n",
    "\n",
    "% Define conflicts\n",
    ":- p, q.\n",
    ":- r, s.\n",
    "    \n",
    "% Choose 2 to 3 elements from {p, q, r, s}.\n",
    "2 {p; q; r; s} 3."
   ]
  },
  {
   "cell_type": "code",
   "execution_count": 3,
   "metadata": {},
   "outputs": [
    {
     "name": "stdout",
     "output_type": "stream",
     "text": [
      "hasColor(2,r) hasColor(3,r) hasColor(5,r) hasColor(1,g) hasColor(6,g) hasColor(4,b)\n",
      "hasColor(2,r) hasColor(3,r) hasColor(5,r) hasColor(1,g) hasColor(4,b) hasColor(6,b)\n",
      "hasColor(2,r) hasColor(3,r) hasColor(1,g) hasColor(5,g) hasColor(4,b) hasColor(6,b)\n",
      "hasColor(1,r) hasColor(2,g) hasColor(3,g) hasColor(5,g) hasColor(4,b) hasColor(6,b)\n",
      "hasColor(1,r) hasColor(6,r) hasColor(2,g) hasColor(3,g) hasColor(5,g) hasColor(4,b)\n",
      "hasColor(1,r) hasColor(5,r) hasColor(2,g) hasColor(3,g) hasColor(4,b) hasColor(6,b)\n",
      "hasColor(1,r) hasColor(5,r) hasColor(4,g) hasColor(6,g) hasColor(2,b) hasColor(3,b)\n",
      "hasColor(1,r) hasColor(6,r) hasColor(4,g) hasColor(2,b) hasColor(3,b) hasColor(5,b)\n",
      "hasColor(1,r) hasColor(4,g) hasColor(6,g) hasColor(2,b) hasColor(3,b) hasColor(5,b)\n",
      "hasColor(2,r) hasColor(3,r) hasColor(5,r) hasColor(4,g) hasColor(1,b) hasColor(6,b)\n",
      "hasColor(2,r) hasColor(3,r) hasColor(4,g) hasColor(6,g) hasColor(1,b) hasColor(5,b)\n",
      "hasColor(2,r) hasColor(3,r) hasColor(5,r) hasColor(4,g) hasColor(6,g) hasColor(1,b)\n",
      "hasColor(4,r) hasColor(2,g) hasColor(3,g) hasColor(5,g) hasColor(1,b) hasColor(6,b)\n",
      "hasColor(4,r) hasColor(6,r) hasColor(2,g) hasColor(3,g) hasColor(5,g) hasColor(1,b)\n",
      "hasColor(4,r) hasColor(6,r) hasColor(2,g) hasColor(3,g) hasColor(1,b) hasColor(5,b)\n",
      "hasColor(4,r) hasColor(1,g) hasColor(6,g) hasColor(2,b) hasColor(3,b) hasColor(5,b)\n",
      "hasColor(4,r) hasColor(6,r) hasColor(1,g) hasColor(5,g) hasColor(2,b) hasColor(3,b)\n",
      "hasColor(4,r) hasColor(6,r) hasColor(1,g) hasColor(2,b) hasColor(3,b) hasColor(5,b)\n",
      "SATISFIABLE\n"
     ]
    }
   ],
   "source": [
    "%%clingo -V0 0\n",
    "\n",
    "% Define a graph with 6 nodes by counting all its edges.\n",
    "node(1..6).\n",
    "edge(1, 2; 1, 3; 1, 4).\n",
    "edge(2, 4; 2, 6).\n",
    "edge(3, 4).\n",
    "edge(5, 4; 5, 6).\n",
    "\n",
    "% There are 3 possible colors for a node.\n",
    "color(r; g; b).\n",
    "\n",
    "% For all C that satisfies color(C), each node can only has one C.\n",
    "{hasColor(N, C) : color(C)} = 1 :- node(N).\n",
    "\n",
    "% Negate all cases where adjacent nodes has the same color.\n",
    ":- hasColor(N, C), hasColor(M, C), edge(N, M), color(C).\n",
    "\n",
    "#show hasColor/2."
   ]
  },
  {
   "cell_type": "code",
   "execution_count": null,
   "metadata": {},
   "outputs": [],
   "source": []
  },
  {
   "cell_type": "code",
   "execution_count": null,
   "metadata": {},
   "outputs": [],
   "source": []
  }
 ],
 "metadata": {
  "kernelspec": {
   "display_name": "Python 3",
   "language": "python",
   "name": "python3"
  },
  "language_info": {
   "codemirror_mode": {
    "name": "ipython",
    "version": 3
   },
   "file_extension": ".py",
   "mimetype": "text/x-python",
   "name": "python",
   "nbconvert_exporter": "python",
   "pygments_lexer": "ipython3",
   "version": "3.8.6"
  }
 },
 "nbformat": 4,
 "nbformat_minor": 4
}
