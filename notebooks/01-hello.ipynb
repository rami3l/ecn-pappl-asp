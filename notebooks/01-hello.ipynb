{
 "cells": [
  {
   "cell_type": "markdown",
   "metadata": {},
   "source": [
    "# AnsProlog Basics\n",
    "Unlike in Prolog, we don’t have to issue a query in order for computation to happen. The answer set solver instead produces all possible collections of facts that are consistent with what we’ve said in the program."
   ]
  },
  {
   "cell_type": "code",
   "execution_count": 1,
   "metadata": {},
   "outputs": [
    {
     "name": "stdout",
     "output_type": "stream",
     "text": [
      "p q\n",
      "SATISFIABLE\n"
     ]
    }
   ],
   "source": [
    "%%clingo -V0 0\n",
    "% The answer set is calculated automatically without an explicit query.\n",
    "p. % A fact.\n",
    "q :- p. % q if p."
   ]
  },
  {
   "cell_type": "markdown",
   "metadata": {},
   "source": [
    "## Choices"
   ]
  },
  {
   "cell_type": "code",
   "execution_count": 2,
   "metadata": {},
   "outputs": [
    {
     "name": "stdout",
     "output_type": "stream",
     "text": [
      "r p\n",
      "r q\n",
      "s p\n",
      "s q\n",
      "SATISFIABLE\n"
     ]
    }
   ],
   "source": [
    "%%clingo -V0 0\n",
    "\n",
    "% Define conflicts\n",
    ":- p, q.\n",
    ":- r, s.\n",
    "    \n",
    "% Choose 2 to 3 elements from {p, q, r, s}.\n",
    "2 {p; q; r; s} 3."
   ]
  },
  {
   "cell_type": "markdown",
   "metadata": {},
   "source": [
    "## Other Syntax"
   ]
  },
  {
   "cell_type": "code",
   "execution_count": 3,
   "metadata": {
    "scrolled": true
   },
   "outputs": [
    {
     "name": "stdout",
     "output_type": "stream",
     "text": [
      "q\n",
      "p r\n",
      "SATISFIABLE\n"
     ]
    }
   ],
   "source": [
    "%%clingo -V0 0\n",
    "\n",
    "% Answer Set Negation: \"not proven true == proven false || undecidable\"\n",
    "% Classical Negation: \"proven false\"\n",
    "\n",
    "p :- not q.\n",
    "q :- not p.\n",
    "r :- p. % Logical OR.\n",
    "s :- p, q. % Logical AND."
   ]
  },
  {
   "cell_type": "code",
   "execution_count": 4,
   "metadata": {},
   "outputs": [
    {
     "name": "stdout",
     "output_type": "stream",
     "text": [
      "sumOfSingleDigits(45)\n",
      "SATISFIABLE\n"
     ]
    }
   ],
   "source": [
    "%%clingo -V0 0\n",
    "\n",
    "% Aggregation\n",
    "\n",
    "isSingleDigit(0..9).\n",
    "sumOfSingleDigits(S) :- #sum{N : isSingleDigit(N)} = S.\n",
    "\n",
    "#show sumOfSingleDigits/1."
   ]
  },
  {
   "cell_type": "code",
   "execution_count": 5,
   "metadata": {},
   "outputs": [
    {
     "name": "stdout",
     "output_type": "stream",
     "text": [
      "max(8) pick(1) pick(8)\n",
      "Optimization: 2\n",
      "OPTIMUM FOUND\n"
     ]
    }
   ],
   "source": [
    "%%clingo -V0 0\n",
    "\n",
    "% Condition\n",
    "\n",
    "% Here are all the candidates.\n",
    "candidate(1; 14; 51; 4; 191; 9; 8; 10).\n",
    "% Here are the maxima when choosing candidates.\n",
    "% Choose only one maximum at a time.\n",
    "{max(2; 8; 9)} = 1.\n",
    "% Pick certain (at least 2) candidates from [|0, M|] for a certain M.\n",
    "2{pick(N) : candidate(N), 0 <= N, N <= M} :- max(M).\n",
    "\n",
    "% Soft Constraints\n",
    "\n",
    "% If C elements has been picked, the penalty is C.\n",
    ":~ {pick(N)} = C. [C]\n",
    "\n",
    "#show max/1.\n",
    "#show pick/1."
   ]
  },
  {
   "cell_type": "markdown",
   "metadata": {},
   "source": [
    "## Graph Coloring"
   ]
  },
  {
   "cell_type": "code",
   "execution_count": 6,
   "metadata": {},
   "outputs": [
    {
     "name": "stdout",
     "output_type": "stream",
     "text": [
      "hasColor(2,r) hasColor(3,r) hasColor(5,r) hasColor(1,g) hasColor(6,g) hasColor(4,b)\n",
      "hasColor(2,r) hasColor(3,r) hasColor(5,r) hasColor(1,g) hasColor(4,b) hasColor(6,b)\n",
      "hasColor(2,r) hasColor(3,r) hasColor(1,g) hasColor(5,g) hasColor(4,b) hasColor(6,b)\n",
      "hasColor(1,r) hasColor(2,g) hasColor(3,g) hasColor(5,g) hasColor(4,b) hasColor(6,b)\n",
      "hasColor(1,r) hasColor(6,r) hasColor(2,g) hasColor(3,g) hasColor(5,g) hasColor(4,b)\n",
      "hasColor(1,r) hasColor(5,r) hasColor(2,g) hasColor(3,g) hasColor(4,b) hasColor(6,b)\n",
      "hasColor(1,r) hasColor(5,r) hasColor(4,g) hasColor(6,g) hasColor(2,b) hasColor(3,b)\n",
      "hasColor(1,r) hasColor(6,r) hasColor(4,g) hasColor(2,b) hasColor(3,b) hasColor(5,b)\n",
      "hasColor(1,r) hasColor(4,g) hasColor(6,g) hasColor(2,b) hasColor(3,b) hasColor(5,b)\n",
      "hasColor(2,r) hasColor(3,r) hasColor(5,r) hasColor(4,g) hasColor(1,b) hasColor(6,b)\n",
      "hasColor(2,r) hasColor(3,r) hasColor(4,g) hasColor(6,g) hasColor(1,b) hasColor(5,b)\n",
      "hasColor(2,r) hasColor(3,r) hasColor(5,r) hasColor(4,g) hasColor(6,g) hasColor(1,b)\n",
      "hasColor(4,r) hasColor(2,g) hasColor(3,g) hasColor(5,g) hasColor(1,b) hasColor(6,b)\n",
      "hasColor(4,r) hasColor(6,r) hasColor(2,g) hasColor(3,g) hasColor(5,g) hasColor(1,b)\n",
      "hasColor(4,r) hasColor(6,r) hasColor(2,g) hasColor(3,g) hasColor(1,b) hasColor(5,b)\n",
      "hasColor(4,r) hasColor(1,g) hasColor(6,g) hasColor(2,b) hasColor(3,b) hasColor(5,b)\n",
      "hasColor(4,r) hasColor(6,r) hasColor(1,g) hasColor(5,g) hasColor(2,b) hasColor(3,b)\n",
      "hasColor(4,r) hasColor(6,r) hasColor(1,g) hasColor(2,b) hasColor(3,b) hasColor(5,b)\n",
      "SATISFIABLE\n"
     ]
    }
   ],
   "source": [
    "%%clingo -V0 0\n",
    "\n",
    "% Define a graph with 6 nodes by counting all its edges.\n",
    "node(1..6).\n",
    "edge(1, 2; 1, 3; 1, 4).\n",
    "edge(2, 4; 2, 6).\n",
    "edge(3, 4).\n",
    "edge(5, 4; 5, 6).\n",
    "\n",
    "% There are 3 possible colors for a node.\n",
    "color(r; g; b).\n",
    "\n",
    "% For all C that satisfies color(C), each node can only has one C.\n",
    "{hasColor(N, C) : color(C)} = 1 :- node(N).\n",
    "\n",
    "% Negate all cases where adjacent nodes have the same color.\n",
    ":- hasColor(N, C), hasColor(M, C), edge(N, M), color(C).\n",
    "\n",
    "#show hasColor/2."
   ]
  },
  {
   "cell_type": "markdown",
   "metadata": {},
   "source": [
    "## Tower of Hanoi"
   ]
  },
  {
   "cell_type": "code",
   "execution_count": 7,
   "metadata": {},
   "outputs": [
    {
     "name": "stdout",
     "output_type": "stream",
     "text": [
      "moving(0,1,a,c) moving(1,2,a,b) moving(2,1,c,b)\n",
      "SATISFIABLE\n"
     ]
    }
   ],
   "source": [
    "%%clingo -V0 0\n",
    "\n",
    "% The number of levels of the tower.\n",
    "level(2).\n",
    "\n",
    "% The maximum round count. Should be 2^L-1.\n",
    "maxRound(2 ** L - 1) :- level(L).\n",
    "round(0..M) :- maxRound(M).\n",
    "\n",
    "% Disks and stakes.\n",
    "disk(D) :- level(L), D = 1..L.\n",
    "stake(a;b;c).\n",
    "\n",
    "% For a certain round and a certain disk, we can deduce the only stake.\n",
    "{state(R, D, S) : stake(S)} = 1 :- round(R), disk(D).\n",
    "\n",
    "% Beginning and end.\n",
    "% In the round 0, for all disk D, D is on the stake 1.\n",
    "state(0, D, a) :- disk(D).\n",
    "state(M, D, b) :- disk(D), maxRound(M).\n",
    "\n",
    "% What's moving?\n",
    "moving(N, D, S, T) :- state(N + 1, D, T), state(N, D, S), S != T,\n",
    "    % Must move the disk at the top.\n",
    "    D = #min {K : disk(K), state(N, K, S)},\n",
    "    % A larger disk cannot move onto a smaller one.\n",
    "    D < #min {K : disk(K), state(N, K, T)}.\n",
    "% Each round must contain a single move.\n",
    "moving(N, D) :- moving(N, D, _, _).\n",
    ":- {moving(N, D) : disk(D)} != 1, maxRound(M), N = 0..M-1.\n",
    "% :- moving(N, D), disk(D), maxRound(M), N >= M.\n",
    "\n",
    "% No moving backwards.\n",
    ":- moving(N + 1, D, T, S), moving(N, D, S, T).\n",
    "\n",
    "#show moving/4."
   ]
  },
  {
   "cell_type": "code",
   "execution_count": 8,
   "metadata": {},
   "outputs": [
    {
     "name": "stdout",
     "output_type": "stream",
     "text": [
      "move(4,b,1) move(3,c,2) move(4,c,3) move(2,b,4) move(4,a,5) move(3,b,6) move(4,b,7) move(1,c,8) move(4,c,9) move(3,a,10) move(4,a,11) move(2,c,12) move(4,b,13) move(3,c,14) move(4,c,15)\n",
      "SATISFIABLE\n"
     ]
    }
   ],
   "source": [
    "%%clingo -V0 0\n",
    "\n",
    "% Solution Given in the Example.\n",
    "\n",
    "peg(a;b;c).\n",
    "disk(1..4).\n",
    "init_on(1..4,a).\n",
    "goal_on(1..4,c).\n",
    "moves(15).\n",
    "\n",
    "% Generate\n",
    "{ move(D,P,T) : disk(D), peg(P) } = 1 :- moves(M), T = 1..M.\n",
    "\n",
    "% Define\n",
    "move(D,T) :- move(D,_,T).\n",
    "\n",
    "on(D,P,0) :- init_on(D,P).\n",
    "on(D,P,T) :- move(D,P,T).\n",
    "on(D,P,T+1) :- on(D,P,T), not move(D,T+1), not moves(T).\n",
    "\n",
    "blocked(D-1,P,T+1) :- on(D,P,T), not moves(T).\n",
    "blocked(D-1,P,T) :- blocked(D,P,T), disk(D).\n",
    "\n",
    "% Test\n",
    ":- move(D,P,T), blocked(D-1,P,T).\n",
    ":- move(D,T), on(D,P,T-1), blocked(D,P,T).\n",
    ":- goal_on(D,P), not on(D,P,M), moves(M).\n",
    ":- { on(D,P,T) } != 1, disk(D), moves(M), T = 1..M.\n",
    "    \n",
    "% Display\n",
    "#show move/3."
   ]
  },
  {
   "cell_type": "markdown",
   "metadata": {},
   "source": [
    "## Directed Chinese Postman"
   ]
  },
  {
   "cell_type": "code",
   "execution_count": 9,
   "metadata": {},
   "outputs": [
    {
     "name": "stdout",
     "output_type": "stream",
     "text": [
      "path(3,1) path(1,4) path(4,2) path(2,5) path(5,6) path(6,3)\n",
      "Optimization: 12\n",
      "path(1,2) path(4,1) path(2,5) path(3,4) path(5,6) path(6,3)\n",
      "Optimization: 11\n",
      "OPTIMUM FOUND\n"
     ]
    }
   ],
   "source": [
    "%%clingo -V0 0\n",
    "\n",
    "% Map\n",
    "node(1..6).\n",
    "\n",
    "edge(1, 2, 2).\n",
    "edge(1, 3, 3). edge(3, 1, 3).\n",
    "edge(1, 4, 1). edge(4, 1, 1).\n",
    "edge(2, 4, 2). edge(4, 2, 2).\n",
    "edge(2, 5, 2).\n",
    "edge(2, 6, 4). edge(6, 2, 4).\n",
    "edge(3, 4, 2).\n",
    "edge(3, 5, 2). edge(5, 3, 2).\n",
    "edge(5, 4, 2).\n",
    "edge(5, 6, 1). edge(6, 5, 1).\n",
    "edge(6, 3, 3).\n",
    "\n",
    "edge(A, B) :- edge(A, B, C).\n",
    "\n",
    "% Conditions\n",
    "\n",
    "% Let path(A, B) means \"travel from A to B\".\n",
    "% From one node there's only one way out.\n",
    "{path(A, B) : edge(A, B)} = 1 :- node(A).\n",
    "% To one node there's only one way in.\n",
    "{path(A, B) : edge(A, B)} = 1 :- node(B).\n",
    "\n",
    "% Connectivity\n",
    "connect(A, A) :- node(A).\n",
    "connect(A, B) :- path(A, B).\n",
    "connect(A, C) :- connect(A, B), connect(B, C).\n",
    "\n",
    "% The cycle must be connected.\n",
    ":- not connect(A, B), node(A), node(B).\n",
    "\n",
    "pathCost(A,B,C) :- edge(A, B, C), path(A, B).\n",
    ":~ pathCost(A, B, C). [C, A, B]\n",
    "\n",
    "\n",
    "% #show pathCost/3.\n",
    "#show path/2."
   ]
  }
 ],
 "metadata": {
  "kernelspec": {
   "display_name": "Python 3",
   "language": "python",
   "name": "python3"
  },
  "language_info": {
   "codemirror_mode": {
    "name": "ipython",
    "version": 3
   },
   "file_extension": ".py",
   "mimetype": "text/x-python",
   "name": "python",
   "nbconvert_exporter": "python",
   "pygments_lexer": "ipython3",
   "version": "3.8.6"
  }
 },
 "nbformat": 4,
 "nbformat_minor": 4
}
