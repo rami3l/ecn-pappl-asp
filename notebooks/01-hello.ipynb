{
 "cells": [
  {
   "cell_type": "markdown",
   "metadata": {},
   "source": [
    "# AnsProlog Basics\n",
    "Unlike in Prolog, we don’t have to issue a query in order for computation to happen. The answer set solver instead produces all possible collections of facts that are consistent with what we’ve said in the program."
   ]
  },
  {
   "cell_type": "code",
   "execution_count": 1,
   "metadata": {},
   "outputs": [
    {
     "name": "stdout",
     "output_type": "stream",
     "text": [
      "p q\n",
      "SATISFIABLE\n"
     ]
    }
   ],
   "source": [
    "%%clingo -V0 0\n",
    "% The answer set is calculated automatically without an explicit query.\n",
    "p. % A fact.\n",
    "q :- p. % q if p."
   ]
  },
  {
   "cell_type": "markdown",
   "metadata": {},
   "source": [
    "## Choices"
   ]
  },
  {
   "cell_type": "code",
   "execution_count": 2,
   "metadata": {},
   "outputs": [
    {
     "name": "stdout",
     "output_type": "stream",
     "text": [
      "r p\n",
      "r q\n",
      "s p\n",
      "s q\n",
      "SATISFIABLE\n"
     ]
    }
   ],
   "source": [
    "%%clingo -V0 0\n",
    "\n",
    "% Define conflicts\n",
    ":- p, q.\n",
    ":- r, s.\n",
    "    \n",
    "% Choose 2 to 3 elements from {p, q, r, s}.\n",
    "2 {p; q; r; s} 3."
   ]
  },
  {
   "cell_type": "markdown",
   "metadata": {},
   "source": [
    "## Graph Coloring"
   ]
  },
  {
   "cell_type": "code",
   "execution_count": 3,
   "metadata": {},
   "outputs": [
    {
     "name": "stdout",
     "output_type": "stream",
     "text": [
      "hasColor(2,r) hasColor(3,r) hasColor(5,r) hasColor(1,g) hasColor(6,g) hasColor(4,b)\n",
      "hasColor(2,r) hasColor(3,r) hasColor(5,r) hasColor(1,g) hasColor(4,b) hasColor(6,b)\n",
      "hasColor(2,r) hasColor(3,r) hasColor(1,g) hasColor(5,g) hasColor(4,b) hasColor(6,b)\n",
      "hasColor(1,r) hasColor(2,g) hasColor(3,g) hasColor(5,g) hasColor(4,b) hasColor(6,b)\n",
      "hasColor(1,r) hasColor(6,r) hasColor(2,g) hasColor(3,g) hasColor(5,g) hasColor(4,b)\n",
      "hasColor(1,r) hasColor(5,r) hasColor(2,g) hasColor(3,g) hasColor(4,b) hasColor(6,b)\n",
      "hasColor(1,r) hasColor(5,r) hasColor(4,g) hasColor(6,g) hasColor(2,b) hasColor(3,b)\n",
      "hasColor(1,r) hasColor(6,r) hasColor(4,g) hasColor(2,b) hasColor(3,b) hasColor(5,b)\n",
      "hasColor(1,r) hasColor(4,g) hasColor(6,g) hasColor(2,b) hasColor(3,b) hasColor(5,b)\n",
      "hasColor(2,r) hasColor(3,r) hasColor(5,r) hasColor(4,g) hasColor(1,b) hasColor(6,b)\n",
      "hasColor(2,r) hasColor(3,r) hasColor(4,g) hasColor(6,g) hasColor(1,b) hasColor(5,b)\n",
      "hasColor(2,r) hasColor(3,r) hasColor(5,r) hasColor(4,g) hasColor(6,g) hasColor(1,b)\n",
      "hasColor(4,r) hasColor(2,g) hasColor(3,g) hasColor(5,g) hasColor(1,b) hasColor(6,b)\n",
      "hasColor(4,r) hasColor(6,r) hasColor(2,g) hasColor(3,g) hasColor(5,g) hasColor(1,b)\n",
      "hasColor(4,r) hasColor(6,r) hasColor(2,g) hasColor(3,g) hasColor(1,b) hasColor(5,b)\n",
      "hasColor(4,r) hasColor(1,g) hasColor(6,g) hasColor(2,b) hasColor(3,b) hasColor(5,b)\n",
      "hasColor(4,r) hasColor(6,r) hasColor(1,g) hasColor(5,g) hasColor(2,b) hasColor(3,b)\n",
      "hasColor(4,r) hasColor(6,r) hasColor(1,g) hasColor(2,b) hasColor(3,b) hasColor(5,b)\n",
      "SATISFIABLE\n"
     ]
    }
   ],
   "source": [
    "%%clingo -V0 0\n",
    "\n",
    "% Define a graph with 6 nodes by counting all its edges.\n",
    "node(1..6).\n",
    "edge(1, 2; 1, 3; 1, 4).\n",
    "edge(2, 4; 2, 6).\n",
    "edge(3, 4).\n",
    "edge(5, 4; 5, 6).\n",
    "\n",
    "% There are 3 possible colors for a node.\n",
    "color(r; g; b).\n",
    "\n",
    "% For all C that satisfies color(C), each node can only has one C.\n",
    "{hasColor(N, C) : color(C)} = 1 :- node(N).\n",
    "\n",
    "% Negate all cases where adjacent nodes have the same color.\n",
    ":- hasColor(N, C), hasColor(M, C), edge(N, M), color(C).\n",
    "\n",
    "#show hasColor/2."
   ]
  },
  {
   "cell_type": "markdown",
   "metadata": {},
   "source": [
    "## Tower of Hanoi"
   ]
  },
  {
   "cell_type": "code",
   "execution_count": 4,
   "metadata": {},
   "outputs": [
    {
     "name": "stdout",
     "output_type": "stream",
     "text": [
      "moving(0,1,a,c) moving(1,2,a,b) moving(2,1,c,b)\n",
      "SATISFIABLE\n"
     ]
    }
   ],
   "source": [
    "%%clingo -V0 0\n",
    "\n",
    "% The number of levels of the tower.\n",
    "level(2).\n",
    "\n",
    "% The maximum round count. Should be 2^L-1.\n",
    "maxRound(2 ** L - 1) :- level(L).\n",
    "round(0..M) :- maxRound(M).\n",
    "\n",
    "% Disks and stakes.\n",
    "disk(D) :- level(L), D = 1..L.\n",
    "stake(a;b;c).\n",
    "\n",
    "% For a certain round and a certain disk, we can deduce the only stake.\n",
    "{state(R, D, S) : stake(S)} = 1 :- round(R), disk(D).\n",
    "\n",
    "% Beginning and end.\n",
    "% In the round 0, for all disk D, D is on the stake 1.\n",
    "state(0, D, a) :- disk(D).\n",
    "state(M, D, b) :- disk(D), maxRound(M).\n",
    "\n",
    "% What's moving?\n",
    "moving(N, D, S, T) :- state(N + 1, D, T), state(N, D, S), S != T,\n",
    "    % Must move the disk at the top.\n",
    "    D = #min {K : disk(K), state(N, K, S)},\n",
    "    % A larger disk cannot move onto a smaller one.\n",
    "    D < #min {K : disk(K), state(N, K, T)}.\n",
    "% Each round must contain a single move.\n",
    "moving(N, D) :- moving(N, D, _, _).\n",
    ":- {moving(N, D) : disk(D)} != 1, maxRound(M), N = 0..M-1.\n",
    "% :- moving(N, D), disk(D), maxRound(M), N >= M.\n",
    "\n",
    "% No moving backwards.\n",
    ":- moving(N + 1, D, T, S), moving(N, D, S, T).\n",
    "\n",
    "#show moving/4."
   ]
  },
  {
   "cell_type": "code",
   "execution_count": 5,
   "metadata": {},
   "outputs": [
    {
     "name": "stdout",
     "output_type": "stream",
     "text": [
      "move(4,b,1) move(3,c,2) move(4,c,3) move(2,b,4) move(4,a,5) move(3,b,6) move(4,b,7) move(1,c,8) move(4,c,9) move(3,a,10) move(4,a,11) move(2,c,12) move(4,b,13) move(3,c,14) move(4,c,15)\n",
      "SATISFIABLE\n"
     ]
    }
   ],
   "source": [
    "%%clingo -V0 0\n",
    "\n",
    "% Solution Given in the Example.\n",
    "\n",
    "peg(a;b;c).\n",
    "disk(1..4).\n",
    "init_on(1..4,a).\n",
    "goal_on(1..4,c).\n",
    "moves(15).\n",
    "\n",
    "% Generate\n",
    "{ move(D,P,T) : disk(D), peg(P) } = 1 :- moves(M), T = 1..M.\n",
    "\n",
    "% Define\n",
    "move(D,T) :- move(D,_,T).\n",
    "\n",
    "on(D,P,0) :- init_on(D,P).\n",
    "on(D,P,T) :- move(D,P,T).\n",
    "on(D,P,T+1) :- on(D,P,T), not move(D,T+1), not moves(T).\n",
    "\n",
    "blocked(D-1,P,T+1) :- on(D,P,T), not moves(T).\n",
    "blocked(D-1,P,T) :- blocked(D,P,T), disk(D).\n",
    "\n",
    "% Test\n",
    ":- move(D,P,T), blocked(D-1,P,T).\n",
    ":- move(D,T), on(D,P,T-1), blocked(D,P,T).\n",
    ":- goal_on(D,P), not on(D,P,M), moves(M).\n",
    ":- { on(D,P,T) } != 1, disk(D), moves(M), T = 1..M.\n",
    "    \n",
    "% Display\n",
    "#show move/3."
   ]
  }
 ],
 "metadata": {
  "kernelspec": {
   "display_name": "Python 3",
   "language": "python",
   "name": "python3"
  },
  "language_info": {
   "codemirror_mode": {
    "name": "ipython",
    "version": 3
   },
   "file_extension": ".py",
   "mimetype": "text/x-python",
   "name": "python",
   "nbconvert_exporter": "python",
   "pygments_lexer": "ipython3",
   "version": "3.8.6"
  }
 },
 "nbformat": 4,
 "nbformat_minor": 4
}
